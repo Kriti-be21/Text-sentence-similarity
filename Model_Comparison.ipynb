{
  "nbformat": 4,
  "nbformat_minor": 0,
  "metadata": {
    "colab": {
      "provenance": [],
      "authorship_tag": "ABX9TyOkbsXULE3dDbbnDTDQmXsG",
      "include_colab_link": true
    },
    "kernelspec": {
      "name": "python3",
      "display_name": "Python 3"
    },
    "language_info": {
      "name": "python"
    }
  },
  "cells": [
    {
      "cell_type": "markdown",
      "metadata": {
        "id": "view-in-github",
        "colab_type": "text"
      },
      "source": [
        "<a href=\"https://colab.research.google.com/github/Kriti-be21/Text-sentence-similarity/blob/main/Model_Comparison.ipynb\" target=\"_parent\"><img src=\"https://colab.research.google.com/assets/colab-badge.svg\" alt=\"Open In Colab\"/></a>"
      ]
    },
    {
      "cell_type": "code",
      "execution_count": 2,
      "metadata": {
        "id": "cQ8EFMSdOMYd",
        "colab": {
          "base_uri": "https://localhost:8080/"
        },
        "outputId": "056008d7-a202-4385-ae2c-2c263c138b87"
      },
      "outputs": [
        {
          "output_type": "stream",
          "name": "stdout",
          "text": [
            "Ranking of pre-trained models:\n",
            "1. Model 1\n",
            "2. Model 3\n",
            "3. Model 2\n",
            "4. Model 4\n",
            "5. Model 5\n"
          ]
        }
      ],
      "source": [
        "import numpy as np\n",
        "normalized_matrix = np.array([[0.8, 0.9, 0.7],\n",
        "                             [0.6, 0.7, 0.9],\n",
        "                             [0.7, 0.8, 0.8],\n",
        "                              [0.8, 0.9, 0.5],\n",
        "                              [0.9, 0.7, 0.4]])\n",
        "\n",
        "weights = np.array([0.4, 0.3, 0.3])\n",
        "\n",
        "# Calculate the Weighted Normalized Decision Matrix\n",
        "weighted_matrix = normalized_matrix * weights\n",
        "\n",
        "# Identify Ideal and Negative Ideal Solutions\n",
        "ideal_solution = np.max(weighted_matrix, axis=0)\n",
        "negative_ideal_solution = np.min(weighted_matrix, axis=0)\n",
        "\n",
        "# Calculate Distance to Ideal Solutions\n",
        "positive_distance = np.sqrt(np.sum((weighted_matrix - ideal_solution)**2, axis=1))\n",
        "negative_distance = np.sqrt(np.sum((weighted_matrix - negative_ideal_solution)**2, axis=1))\n",
        "\n",
        "# Calculate Proximity to Ideal Solution\n",
        "proximity = negative_distance / (positive_distance + negative_distance)\n",
        "\n",
        "# Rank the Alternatives\n",
        "ranked_indices = np.argsort(proximity)[::-1]\n",
        "\n",
        "# Display the ranked alternatives\n",
        "print(\"Ranking of pre-trained models:\")\n",
        "for i, index in enumerate(ranked_indices):\n",
        "    print(f\"{i+1}. Model {index+1}\")\n"
      ]
    }
  ]
}